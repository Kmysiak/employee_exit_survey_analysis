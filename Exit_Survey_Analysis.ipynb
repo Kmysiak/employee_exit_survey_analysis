{
 "cells": [
  {
   "cell_type": "code",
   "execution_count": null,
   "metadata": {},
   "outputs": [],
   "source": [
    "import pandas as pd\n",
    "import numpy as np\n",
    "import scipy.stats as stats\n",
    "import matplotlib.pyplot as plt\n",
    "import seaborn as sns\n",
    "\n",
    "import warnings\n",
    "warnings.filterwarnings('ignore')\n",
    "pd.set_option('display.max_columns', None)\n",
    "%matplotlib inline"
   ]
  },
  {
   "cell_type": "code",
   "execution_count": null,
   "metadata": {
    "scrolled": true
   },
   "outputs": [],
   "source": [
    "!pwd"
   ]
  },
  {
   "cell_type": "code",
   "execution_count": null,
   "metadata": {},
   "outputs": [],
   "source": [
    "with open('exit_data_final.csv') as f:\n",
    "    df = pd.read_csv(f)\n",
    "f.close()\n",
    "\n",
    "df.head()"
   ]
  },
  {
   "cell_type": "code",
   "execution_count": null,
   "metadata": {},
   "outputs": [],
   "source": [
    "df.info()\n"
   ]
  },
  {
   "cell_type": "code",
   "execution_count": null,
   "metadata": {},
   "outputs": [],
   "source": [
    "df.drop('Unnamed: 0', axis=1, inplace=True)"
   ]
  },
  {
   "cell_type": "code",
   "execution_count": null,
   "metadata": {},
   "outputs": [],
   "source": [
    "for var in df.columns:\n",
    "    print(var, df[var].unique())"
   ]
  },
  {
   "cell_type": "markdown",
   "metadata": {},
   "source": [
    "1. Looking at the unique values it seems we need some features have NULLs instead of np.nan\n",
    "2. We need to transform the age values in order to force the correct sort order\n",
    "3. We also need to transform the type of a few features"
   ]
  },
  {
   "cell_type": "code",
   "execution_count": null,
   "metadata": {},
   "outputs": [],
   "source": [
    "# replacing blanks with np.nan\n",
    "for var in df.columns:\n",
    "    df[var].replace(to_replace=' ', value=np.nan, inplace=True)"
   ]
  },
  {
   "cell_type": "code",
   "execution_count": null,
   "metadata": {},
   "outputs": [],
   "source": [
    "df['age'] = df['age'].map({'20 or younger': '1) 20 or younger',\n",
    "                         '21 - 25': '2) 21 - 25', '26 - 30': '3) 26 - 30',\n",
    "                         '31 - 35': '4) 31 - 35', '36 - 40': '5) 36 - 40',\n",
    "                         '41 - 45': '6) 41 - 45', '46 - 50': '7) 46 - 50',\n",
    "                         '56 or older': '8) 56 or older'})"
   ]
  },
  {
   "cell_type": "code",
   "execution_count": null,
   "metadata": {},
   "outputs": [],
   "source": [
    "# binning/discretization of years_w/the_company\n",
    "bins = [0,4,9,14,19,24]\n",
    "labels = ['0-4yrs', '5-9yrs', '10-14yrs', '15-19yrs', '20+yrs']\n",
    "df['tenure'] = pd.cut(df['tenure'], bins = bins, labels=labels)"
   ]
  },
  {
   "cell_type": "code",
   "execution_count": null,
   "metadata": {},
   "outputs": [],
   "source": [
    "df.head()"
   ]
  },
  {
   "cell_type": "code",
   "execution_count": null,
   "metadata": {},
   "outputs": [],
   "source": [
    "# Converting feature types\n",
    "likert_items = df[['promotional_opportunities', 'performance_recognized',\n",
    "       'feedback_offered', 'coaching_offered', 'mgmt_clear_mission',\n",
    "       'mgmt_support_me', 'mgmt_support_team', 'mgmt_clear_comm',\n",
    "       'direct_mgmt_satisfaction', 'job_stimulating', 'initiative_encouraged',\n",
    "       'skill_variety', 'knowledge_variety', 'task_variety', 'fair_salary',\n",
    "       'teamwork', 'team_support', 'team_comm', 'team_culture',\n",
    "       'job_train_satisfaction', 'personal_train_satisfaction', 'org_culture',\n",
    "       'grievances_resolution', 'co-worker_interaction',\n",
    "       'workplace_conditions', 'job_stress', 'work/life_balance']]\n",
    "\n",
    "for col in likert_items:\n",
    "    df[col] = pd.to_numeric(df[col], errors='coerce').astype('float64')"
   ]
  },
  {
   "cell_type": "code",
   "execution_count": null,
   "metadata": {},
   "outputs": [],
   "source": [
    "df.info()"
   ]
  },
  {
   "cell_type": "code",
   "execution_count": null,
   "metadata": {},
   "outputs": [],
   "source": [
    "# Calculating latent variables\n",
    "df['employee_valued'] = np.nanmean(df[['promotional_opportunities',\n",
    "                                            'performance_recognized',\n",
    "                                            'feedback_offered',\n",
    "                                            'coaching_offered']], axis=1)\n",
    "\n",
    "df['mgmt_sati'] = np.nanmean(df[['mgmt_clear_mission','mgmt_support_me',\n",
    "                                      'mgmt_support_team','mgmt_clear_comm',\n",
    "                                      'direct_mgmt_satisfaction']], axis=1)\n",
    "\n",
    "df['job_satisfaction'] = np.nanmean(df[['job_stimulating','initiative_encouraged',\n",
    "                                     'skill_variety','knowledge_variety',\n",
    "                                     'task_variety']], axis=1)\n",
    "\n",
    "df['team_satisfaction'] = np.nanmean(df[['teamwork','team_support',\n",
    "                                      'team_comm','team_culture']], axis=1)\n",
    "\n",
    "df['training_satisfaction'] = np.nanmean(df[['job_train_satisfaction',\n",
    "                                          'personal_train_satisfaction']], axis=1)\n",
    "\n",
    "df['org_environment'] = np.nanmean(df[['org_culture','grievances_resolution',\n",
    "                                  'co-worker_interaction','workplace_conditions']], axis=1)\n",
    "\n",
    "df['work_life_balance'] = np.nanmean(df[['job_stress','work/life_balance']], axis=1)\n",
    "\n",
    "df['overall_sati'] = np.nanmean(df[['promotional_opportunities', 'performance_recognized',\n",
    "       'feedback_offered', 'coaching_offered', 'mgmt_clear_mission',\n",
    "       'mgmt_support_me', 'mgmt_support_team', 'mgmt_clear_comm',\n",
    "       'direct_mgmt_satisfaction', 'job_stimulating', 'initiative_encouraged',\n",
    "       'skill_variety', 'knowledge_variety', 'task_variety', 'fair_salary',\n",
    "       'teamwork', 'team_support', 'team_comm', 'team_culture',\n",
    "       'job_train_satisfaction', 'personal_train_satisfaction', 'org_culture',\n",
    "       'grievances_resolution', 'co-worker_interaction',\n",
    "       'workplace_conditions', 'job_stress', 'work/life_balance']], axis=1)"
   ]
  },
  {
   "cell_type": "code",
   "execution_count": null,
   "metadata": {},
   "outputs": [],
   "source": [
    "df.head()"
   ]
  },
  {
   "cell_type": "code",
   "execution_count": null,
   "metadata": {},
   "outputs": [],
   "source": [
    "mappings = {1:'1) Dissatisfied', 2:'1) Dissatisfied', 3:'2) Neutral', 4:'3) Satisfied', 5:'3) Satisfied'}\n",
    "likert = ['promotional_opportunities', 'performance_recognized',\n",
    "       'feedback_offered', 'coaching_offered', 'mgmt_clear_mission',\n",
    "       'mgmt_support_me', 'mgmt_support_team', 'mgmt_clear_comm',\n",
    "       'direct_mgmt_satisfaction', 'job_stimulating', 'initiative_encouraged',\n",
    "       'skill_variety', 'knowledge_variety', 'task_variety', 'fair_salary',\n",
    "       'teamwork', 'team_support', 'team_comm', 'team_culture',\n",
    "       'job_train_satisfaction', 'personal_train_satisfaction', 'org_culture',\n",
    "       'grievances_resolution', 'co-worker_interaction',\n",
    "       'workplace_conditions', 'job_stress', 'work/life_balance']\n",
    "\n",
    "for col in likert:\n",
    "    df[col+'_short'] = df[col].map(mappings)\n",
    "    \n",
    "df.head()    "
   ]
  },
  {
   "cell_type": "markdown",
   "metadata": {},
   "source": [
    "# Exploratory Data Analysis\n",
    "1. We need to consider the fact employee exit surveys are almost always answered on a voluntary basis.  Due to this confounding variable we need to take any insights gleamed from the data as \"evidence\" of organizational affairs instead of definitive \"proof\".  Employees might have been extremely happy or angry with the organization and their attitude will surely be representated in their answers.   \n",
    "2. Furthermore, our dataset contain only 700 employees which is simply too few to make any resonable recommendations. \n",
    "3. Also, we need to consider that we don't know the overall size of the organization and 700 terminations over the course of 4 years might be a relatively small number.  In other words, this survey does not provide proof of turnover rates w/in the organization. \n",
    "4. Finally, these 700 terminations are only respondents to the exit survey and we need to be care not to consider these as the total of all terminations which occurred in the last 4 years.  700 might be only a small percentage of all terminations. \n",
    "\n",
    "**In other words, our analysis hopes to determine the level satisfaction on several organizational factors for those employees who RESPONDED to the survey.  We are should not generalize our results to the broader organization or all terminated employees, who have not responded to the survey.**\n",
    "\n",
    "**With that said, let's dig in!**"
   ]
  },
  {
   "cell_type": "markdown",
   "metadata": {},
   "source": [
    "## Univariate Analysis"
   ]
  },
  {
   "cell_type": "code",
   "execution_count": null,
   "metadata": {},
   "outputs": [],
   "source": [
    "def uni_plots(feature, text):\n",
    "    tmp_count = df[feature].dropna().value_counts().values\n",
    "    tmp_percent = ((df[feature].dropna().value_counts()/len(df))*100).values\n",
    "    df1 = pd.DataFrame({feature: df[feature].value_counts().index,\n",
    "                        'Number of Employees': tmp_count,\n",
    "                        'Percent of Employees': tmp_percent})\n",
    "    \n",
    "    f, ax = plt.subplots(figsize=(20,10))\n",
    "    plt.title(text, fontsize=25, pad=30)\n",
    "    plt.tick_params(axis='both', labelsize=15, pad=10)\n",
    "    plt.xlabel(feature, fontsize=20)\n",
    "    plt.xticks(size=18)\n",
    "    plt.yticks(size=18)\n",
    "    \n",
    "    sns.set_color_codes('pastel')\n",
    "    count = sns.barplot(x=feature, y='Number of Employees', color='b', data=df1, label='Number of Employees')\n",
    "    for p in count.patches:\n",
    "        count.annotate(format(p.get_height(), '.1f'), \n",
    "                   (p.get_x() + p.get_width() / 2., p.get_height()), \n",
    "                   ha = 'center', va = 'center',\n",
    "                   xytext = (0, 9), \n",
    "                   textcoords = 'offset points', size = 20)\n",
    "    \n",
    "    sns.set_color_codes('muted')\n",
    "    percent = sns.barplot(x=feature, y='Percent of Employees', color='b', data=df1, label='Percent of Employees')\n",
    "    for i in percent.patches:\n",
    "        percent.annotate(format(i.get_height(), '.1f'), \n",
    "                   (i.get_x() + i.get_width() / 2., i.get_height()), \n",
    "                   ha = 'center', va = 'center', \n",
    "                   xytext = (0, 9), size = 20,\n",
    "                   textcoords = 'offset points')\n",
    "    \n",
    "    ax.set_ylabel('')\n",
    "    ax.legend(ncol=2, loc=\"upper right\", fontsize=15, frameon=True)\n",
    "    sns.despine(left=False, bottom=False)\n",
    "    ax.set_xticklabels(ax.get_xticklabels(), rotation=45)\n",
    "    plt.show()"
   ]
  },
  {
   "cell_type": "code",
   "execution_count": null,
   "metadata": {},
   "outputs": [],
   "source": [
    "def bi_cat_plot(feature1, feature2):\n",
    "    ax = pd.crosstab(df[feature1], df[feature2], normalize='index')*100\n",
    "    ax1 = ax.plot(kind='barh', stacked=True, figsize=(25,15), fontsize=25)\n",
    "    for i in ax1.patches:\n",
    "        width, height = i.get_width(), i.get_height()\n",
    "        x, y = i.get_xy() \n",
    "        ax1.text(x+width/2,\n",
    "                 y+height/2,\n",
    "                 '{:.0f} %'.format(width),\n",
    "                 horizontalalignment='center',\n",
    "                 verticalalignment='center',\n",
    "                 size=25)\n",
    "    \n",
    "    plt.title('Percentage of Termination by {} and {}'.format(feature1, feature2), fontsize=30, pad=25)\n",
    "    plt.ylabel(' ')\n",
    "    plt.legend(prop={'size':20})"
   ]
  },
  {
   "cell_type": "code",
   "execution_count": null,
   "metadata": {},
   "outputs": [],
   "source": [
    "# plotting demographics against each likert item\n",
    "def bi_likert_plot(feature1, feature2):\n",
    "    ax = pd.crosstab(df[feature1], df[feature2], normalize='index')*100\n",
    "    ax1 = ax.plot(kind='barh', stacked=True,figsize=(25,15), fontsize=25)\n",
    "    \n",
    "    for i in ax1.patches:\n",
    "        width, height = i.get_width(), i.get_height()\n",
    "        x, y = i.get_xy() \n",
    "        ax1.text(x+width/2,\n",
    "                 y+height/2,\n",
    "                 '{:.0f} %'.format(width),\n",
    "                 horizontalalignment='center',\n",
    "                 verticalalignment='center',\n",
    "                 size=25)\n",
    "    plt.title('Respondents attitude of {} by {}'.format(feature2, feature1), fontsize=30, pad=25)\n",
    "    plt.ylabel(' ')\n",
    "    plt.legend(prop={'size':20})"
   ]
  },
  {
   "cell_type": "code",
   "execution_count": null,
   "metadata": {},
   "outputs": [],
   "source": [
    "def bi_likert_vol_plot(feature1, feature2):\n",
    "    tmp_df = df.loc[(df['reason_of_term']=='vol_term')]\n",
    "    ax = pd.crosstab(tmp_df[feature1], tmp_df[feature2], normalize='index')*100\n",
    "    ax1 = ax.plot(kind='barh', stacked=True,figsize=(25,15), fontsize=25)\n",
    "    \n",
    "    for i in ax1.patches:\n",
    "        width, height = i.get_width(), i.get_height()\n",
    "        x, y = i.get_xy() \n",
    "        ax1.text(x+width/2,\n",
    "                 y+height/2,\n",
    "                 '{:.0f} %'.format(width),\n",
    "                 horizontalalignment='center',\n",
    "                 verticalalignment='center',\n",
    "                 size=25)\n",
    "    plt.title('Respondents attitude of {} by {}'.format(feature2, feature1), fontsize=30, pad=25)\n",
    "    plt.ylabel(' ')\n",
    "    plt.legend(prop={'size':20})"
   ]
  },
  {
   "cell_type": "code",
   "execution_count": null,
   "metadata": {},
   "outputs": [],
   "source": [
    "def bi_cat_plot(feature1, feature2):\n",
    "    ax = pd.crosstab(df[feature1], df[feature2], normalize='index')*100\n",
    "    ax1 = ax.plot(kind='barh', stacked=True, figsize=(25,15), fontsize=25)\n",
    "    for i in ax1.patches:\n",
    "        width, height = i.get_width(), i.get_height()\n",
    "        x, y = i.get_xy() \n",
    "        ax1.text(x+width/2,\n",
    "                 y+height/2,\n",
    "                 '{:.0f} %'.format(width),\n",
    "                 horizontalalignment='center',\n",
    "                 verticalalignment='center',\n",
    "                 size=25)\n",
    "    \n",
    "    plt.title('Percentage of Termination Reasons by {}'.format(feature1), fontsize=30, pad=25)\n",
    "    plt.ylabel(' ')\n",
    "    plt.legend(prop={'size':20})"
   ]
  },
  {
   "cell_type": "code",
   "execution_count": null,
   "metadata": {},
   "outputs": [],
   "source": [
    "# plotting demographics against the overall satisfaction score calculated for each repondent\n",
    "# this allows us to determine what is the overall sati score by demographics.\n",
    "# \n",
    "def overall_plot(feature):\n",
    "    ax = round(df.groupby(feature)['overall_sati'].mean(),2).sort_values().plot(kind='barh', stacked=True,\n",
    "                                                              figsize=(25,15), fontsize=25)\n",
    "    for i in ax.patches:\n",
    "        width, height = i.get_width(), i.get_height()\n",
    "        x, y = i.get_xy() \n",
    "        ax.text(x+width/2,\n",
    "                y+height/2,\n",
    "                '{:.2f}'.format(width),\n",
    "                horizontalalignment='center',\n",
    "                verticalalignment='center',\n",
    "                size=25)\n",
    "    plt.title('Overall Employee Sentiment by {}'.format(feature), fontsize=30, pad=25)\n",
    "    plt.ylabel(' ')"
   ]
  },
  {
   "cell_type": "code",
   "execution_count": null,
   "metadata": {},
   "outputs": [],
   "source": [
    "# plotting demographics against individually averaged likert items (ie. employee_valued)\n",
    "def overall_plot2(feature1, feature2):\n",
    "    ax = round(df.groupby(feature1)[feature2].mean(),2).sort_values().plot(kind='barh', stacked=True,\n",
    "                                                              figsize=(25,15), fontsize=25)\n",
    "    for i in ax.patches:\n",
    "        width, height = i.get_width(), i.get_height()\n",
    "        x, y = i.get_xy() \n",
    "        ax.text(x+width/2,\n",
    "                y+height/2,\n",
    "                '{:.2f}'.format(width),\n",
    "                horizontalalignment='center',\n",
    "                verticalalignment='center',\n",
    "                size=25)\n",
    "    plt.title('Overall Employee {} Sentiment by {}'.format(feature2, feature1), fontsize=30, pad=25)\n",
    "    plt.ylabel(' ')"
   ]
  },
  {
   "cell_type": "code",
   "execution_count": null,
   "metadata": {},
   "outputs": [],
   "source": [
    "# plotting average likert sentiment by respondent characteristics for voluntary terminations\n",
    "def bi_volterm_plot(feature1, feature2):\n",
    "    tmp_df = df.loc[(df['reason_of_term']=='vol_term')]\n",
    "    ax = round(tmp_df.groupby(feature1)[feature2].mean(),2).sort_values().plot(kind='barh', stacked=True,\n",
    "                                                              figsize=(25,15), fontsize=25)\n",
    "    for i in ax.patches:\n",
    "        width, height = i.get_width(), i.get_height()\n",
    "        x, y = i.get_xy() \n",
    "        ax.text(x+width/2,\n",
    "                 y+height/2,\n",
    "                 '{:.2f}'.format(width),\n",
    "                 horizontalalignment='center',\n",
    "                 verticalalignment='center',\n",
    "                 size=25)\n",
    "    plt.title('Average {} Sentiment of Voluntary Terminations by {}'.format(feature2, feature1),fontsize=30, pad=25)\n",
    "    plt.ylabel(' ')\n",
    "    plt.legend(prop={'size':20})"
   ]
  },
  {
   "cell_type": "code",
   "execution_count": null,
   "metadata": {},
   "outputs": [],
   "source": [
    "# Plotting overall sati for voluntary terms by respondent characteristics\n",
    "def bi_volterm_overall_plot(feature):\n",
    "    tmp_df = df.loc[(df['reason_of_term']=='vol_term')]\n",
    "    ax = round(tmp_df.groupby(feature)['overall_sati'].mean(),2).sort_values().plot(kind='barh', stacked=True,\n",
    "                                                              figsize=(25,15), fontsize=25)\n",
    "    for i in ax.patches:\n",
    "        width, height = i.get_width(), i.get_height()\n",
    "        x, y = i.get_xy() \n",
    "        ax.text(x+width/2,\n",
    "                 y+height/2,\n",
    "                 '{:.2f}'.format(width),\n",
    "                 horizontalalignment='center',\n",
    "                 verticalalignment='center',\n",
    "                 size=25)\n",
    "    plt.title('Average Overall Sentiment of Voluntary Terminations by {}'.format(feature),fontsize=30, pad=25)\n",
    "    plt.ylabel(' ')\n",
    "    plt.legend(prop={'size':20})"
   ]
  },
  {
   "cell_type": "markdown",
   "metadata": {},
   "source": [
    "## Respondents' Characteristics"
   ]
  },
  {
   "cell_type": "code",
   "execution_count": null,
   "metadata": {},
   "outputs": [],
   "source": [
    "uni_plots('department', 'Count & Percent of Employees by Department')"
   ]
  },
  {
   "cell_type": "code",
   "execution_count": null,
   "metadata": {},
   "outputs": [],
   "source": [
    "uni_plots('year_of_term', 'Count & Percent of Employees by Year of Termination')"
   ]
  },
  {
   "cell_type": "code",
   "execution_count": null,
   "metadata": {},
   "outputs": [],
   "source": [
    "uni_plots('reason_of_term', 'Count & Percent of Employees by Reason_of_Term')"
   ]
  },
  {
   "cell_type": "code",
   "execution_count": null,
   "metadata": {},
   "outputs": [],
   "source": [
    "bi_cat_plot('reason_of_term', 'tenure')"
   ]
  },
  {
   "cell_type": "code",
   "execution_count": null,
   "metadata": {},
   "outputs": [],
   "source": [
    "bi_cat_plot('department', 'reason_of_term')"
   ]
  },
  {
   "cell_type": "code",
   "execution_count": null,
   "metadata": {},
   "outputs": [],
   "source": [
    "uni_plots('age', 'Count & Percent of Employees by Age')"
   ]
  },
  {
   "cell_type": "code",
   "execution_count": null,
   "metadata": {},
   "outputs": [],
   "source": [
    "bi_cat_plot('age', 'reason_of_term')"
   ]
  },
  {
   "cell_type": "code",
   "execution_count": null,
   "metadata": {},
   "outputs": [],
   "source": [
    "uni_plots('gender', 'Count & Percent of Employees by Gender')"
   ]
  },
  {
   "cell_type": "code",
   "execution_count": null,
   "metadata": {},
   "outputs": [],
   "source": [
    "bi_cat_plot('reason_of_term', 'gender')"
   ]
  },
  {
   "cell_type": "code",
   "execution_count": null,
   "metadata": {},
   "outputs": [],
   "source": [
    "\n",
    "uni_plots('type_of_employee', 'Count & Percent of Employees by Type of Employee')"
   ]
  },
  {
   "cell_type": "code",
   "execution_count": null,
   "metadata": {},
   "outputs": [],
   "source": [
    "\n",
    "uni_plots('job_type', 'Count & Percent of Employees by job_type')"
   ]
  },
  {
   "cell_type": "code",
   "execution_count": null,
   "metadata": {},
   "outputs": [],
   "source": [
    "bi_cat_plot('job_type', 'reason_of_term')"
   ]
  },
  {
   "cell_type": "code",
   "execution_count": null,
   "metadata": {},
   "outputs": [],
   "source": [
    "bi_cat_plot('job_type', 'tenure')"
   ]
  },
  {
   "cell_type": "code",
   "execution_count": null,
   "metadata": {},
   "outputs": [],
   "source": [
    "uni_plots('tenure', 'Count & Percent of Employees by Tenure')"
   ]
  },
  {
   "cell_type": "code",
   "execution_count": null,
   "metadata": {},
   "outputs": [],
   "source": [
    "bi_cat_plot('tenure', 'reason_of_term')"
   ]
  },
  {
   "cell_type": "markdown",
   "metadata": {},
   "source": [
    "## Overall Repondents' Sentiment"
   ]
  },
  {
   "cell_type": "code",
   "execution_count": null,
   "metadata": {},
   "outputs": [],
   "source": [
    "overall_plot('department')"
   ]
  },
  {
   "cell_type": "code",
   "execution_count": null,
   "metadata": {},
   "outputs": [],
   "source": [
    "overall_plot('reason_of_term')"
   ]
  },
  {
   "cell_type": "code",
   "execution_count": null,
   "metadata": {},
   "outputs": [],
   "source": [
    "overall_plot('gender')"
   ]
  },
  {
   "cell_type": "code",
   "execution_count": null,
   "metadata": {},
   "outputs": [],
   "source": [
    "overall_plot('age')"
   ]
  },
  {
   "cell_type": "code",
   "execution_count": null,
   "metadata": {},
   "outputs": [],
   "source": [
    "overall_plot('type_of_employee')"
   ]
  },
  {
   "cell_type": "code",
   "execution_count": null,
   "metadata": {},
   "outputs": [],
   "source": [
    "overall_plot('job_type')"
   ]
  },
  {
   "cell_type": "code",
   "execution_count": null,
   "metadata": {},
   "outputs": [],
   "source": [
    "overall_plot('tenure')"
   ]
  },
  {
   "cell_type": "code",
   "execution_count": null,
   "metadata": {},
   "outputs": [],
   "source": [
    "emp_value_avg = round(np.mean(df['employee_valued']),2)\n",
    "mgmt_sati_avg = round(np.mean(df['mgmt_sati']),2)\n",
    "job_sati_avg = round(np.mean(df['job_satisfaction']),2)\n",
    "team_sati_avg = round(np.mean(df['team_satisfaction']),2)\n",
    "training_sati_avg = round(np.mean(df['training_satisfaction']),2)\n",
    "fair_salary_avg = round(np.mean(df['fair_salary']),2)\n",
    "org_env_avg = round(np.mean(df['org_environment']),2)\n",
    "work_life_avg = round(np.mean(df['work_life_balance']),2)\n",
    "overall_sati = round(np.mean([emp_value_avg, mgmt_sati_avg, job_sati_avg, team_sati_avg,\n",
    "                            training_sati_avg, fair_salary_avg, org_env_avg, work_life_avg]), 2)\n",
    "temp_dict = {'emp_value_avg': emp_value_avg, 'mgmt_sati_avg': mgmt_sati_avg,\n",
    "             'job_sati_avg': job_sati_avg, 'team_sati_avg': team_sati_avg, \n",
    "             'training_sati_avg': training_sati_avg, \n",
    "             'fair_salary_avg': fair_salary_avg,\n",
    "             'org_env_avg': org_env_avg,\n",
    "             'work_life_avg': work_life_avg, 'overall_sati': overall_sati}\n",
    "tmp_df = pd.DataFrame.from_dict(temp_dict, orient='index', columns=['average']).sort_values(by='average')"
   ]
  },
  {
   "cell_type": "code",
   "execution_count": null,
   "metadata": {},
   "outputs": [],
   "source": [
    "vol_df = df.loc[(df['reason_of_term']=='vol_term')]\n",
    "\n",
    "vol_emp_value_avg = round(np.mean(vol_df['employee_valued']),2)\n",
    "vol_mgmt_sati_avg = round(np.mean(vol_df['mgmt_sati']),2)\n",
    "vol_job_sati_avg = round(np.mean(vol_df['job_satisfaction']),2)\n",
    "vol_team_sati_avg = round(np.mean(vol_df['team_satisfaction']),2)\n",
    "vol_training_sati_avg = round(np.mean(vol_df['training_satisfaction']),2)\n",
    "vol_fair_salary_avg = round(np.mean(vol_df['fair_salary']),2)\n",
    "vol_org_env_avg = round(np.mean(vol_df['org_environment']),2)\n",
    "vol_work_life_avg = round(np.mean(vol_df['work_life_balance']),2)\n",
    "vol_overall_sati = round(np.mean([vol_emp_value_avg, vol_mgmt_sati_avg, vol_job_sati_avg, \n",
    "                                  vol_team_sati_avg, vol_fair_salary_avg,\n",
    "                                  vol_training_sati_avg, \n",
    "                                  vol_org_env_avg, vol_work_life_avg]), 2)\n",
    "vol_temp_dict = {'emp_value_avg': vol_emp_value_avg, 'mgmt_sati_avg': vol_mgmt_sati_avg,\n",
    "                 'job_sati_avg': vol_job_sati_avg, 'team_sati_avg': vol_team_sati_avg, \n",
    "                 'training_sati_avg': vol_training_sati_avg,\n",
    "                 'fair_salary_avg': vol_fair_salary_avg,\n",
    "                 'org_env_avg': vol_org_env_avg,\n",
    "                 'work_life_avg': vol_work_life_avg, 'overall_sati': vol_overall_sati}\n",
    "vol_tmp_df = pd.DataFrame.from_dict(vol_temp_dict, orient='index', columns=['average']).sort_values(by='average')"
   ]
  },
  {
   "cell_type": "code",
   "execution_count": null,
   "metadata": {},
   "outputs": [],
   "source": [
    "plt.figure(figsize=(25,15))\n",
    "plt.title('Overall Latent Factor Averages for Voluntary Termination', fontsize=28)\n",
    "plt.ylabel('Average Employee Rating', fontsize=25)\n",
    "ax = vol_tmp_df['average'].plot(kind='barh', fontsize=25)\n",
    "for i in ax.patches:\n",
    "    width, height = i.get_width(), i.get_height()\n",
    "    x, y = i.get_xy() \n",
    "    ax.text(x+width/2,\n",
    "            y+height/2,\n",
    "            '{:.2f}'.format(width),\n",
    "            horizontalalignment='center',\n",
    "            verticalalignment='center',\n",
    "            size=25)\n",
    "\n",
    "plt.grid(False)\n",
    "plt.show()"
   ]
  },
  {
   "cell_type": "code",
   "execution_count": null,
   "metadata": {},
   "outputs": [],
   "source": [
    "plt.figure(figsize=(25,15))\n",
    "plt.title('Overall Latent Factor Averages', fontsize=28)\n",
    "plt.ylabel('Average Employee Rating', fontsize=25)\n",
    "ax = tmp_df['average'].plot(kind='barh', fontsize=25)\n",
    "for i in ax.patches:\n",
    "    width, height = i.get_width(), i.get_height()\n",
    "    x, y = i.get_xy() \n",
    "    ax.text(x+width/2,\n",
    "            y+height/2,\n",
    "            '{:.2f}'.format(width),\n",
    "            horizontalalignment='center',\n",
    "            verticalalignment='center',\n",
    "            size=25)\n",
    "\n",
    "plt.grid(False)\n",
    "plt.show()"
   ]
  },
  {
   "cell_type": "code",
   "execution_count": null,
   "metadata": {},
   "outputs": [],
   "source": []
  },
  {
   "cell_type": "code",
   "execution_count": null,
   "metadata": {},
   "outputs": [],
   "source": [
    "likert = ['promotional_opportunities', 'performance_recognized',\n",
    "       'feedback_offered', 'coaching_offered', 'mgmt_clear_mission',\n",
    "       'mgmt_support_me', 'mgmt_support_team', 'mgmt_clear_comm',\n",
    "       'direct_mgmt_satisfaction', 'job_stimulating', 'initiative_encouraged',\n",
    "       'skill_variety', 'knowledge_variety', 'task_variety', 'fair_salary',\n",
    "       'teamwork', 'team_support', 'team_comm', 'team_culture',\n",
    "       'job_train_satisfaction', 'personal_train_satisfaction', 'org_culture',\n",
    "       'grievances_resolution', 'co-worker_interaction',\n",
    "       'workplace_conditions', 'job_stress', 'work/life_balance']\n",
    "\n",
    "likert_avgs = []\n",
    "for col in likert:\n",
    "    likert_avgs.append(round(np.nanmean(df[col]),2))"
   ]
  },
  {
   "cell_type": "code",
   "execution_count": null,
   "metadata": {
    "scrolled": true
   },
   "outputs": [],
   "source": [
    "likert_avgs_df = pd.DataFrame(list(zip(likert, likert_avgs)), columns=['likert_item', 'avg_sentiment'])\n",
    "likert_avgs_df.set_index('likert_item', inplace=True)\n"
   ]
  },
  {
   "cell_type": "code",
   "execution_count": null,
   "metadata": {},
   "outputs": [],
   "source": [
    "plt.figure()\n",
    "\n",
    "ax = likert_avgs_df.plot(kind='bar', figsize=(25,15), fontsize=20)\n",
    "for i in ax.patches:\n",
    "        width, height = i.get_width(), i.get_height()\n",
    "        x, y = i.get_xy() \n",
    "        ax.text(x+width-0.25,\n",
    "                 y+height+.1,\n",
    "                 '{:.2f}'.format(height),\n",
    "                 horizontalalignment='center',\n",
    "                 verticalalignment='center',\n",
    "                 size=20)\n",
    "plt.title('Average Overall Likert Item Sentiment', fontsize=30, pad=25)\n",
    "plt.legend().remove()\n",
    "plt.xlabel(' ')        "
   ]
  },
  {
   "cell_type": "markdown",
   "metadata": {},
   "source": [
    "## Voluntary Termination Construct Sentiment"
   ]
  },
  {
   "cell_type": "code",
   "execution_count": null,
   "metadata": {},
   "outputs": [],
   "source": [
    "bi_volterm_plot('department', 'employee_valued')"
   ]
  },
  {
   "cell_type": "code",
   "execution_count": null,
   "metadata": {},
   "outputs": [],
   "source": [
    "bi_volterm_plot('department', 'promotional_opportunities')"
   ]
  },
  {
   "cell_type": "code",
   "execution_count": null,
   "metadata": {},
   "outputs": [],
   "source": [
    "bi_volterm_plot('age', 'promotional_opportunities')"
   ]
  },
  {
   "cell_type": "code",
   "execution_count": null,
   "metadata": {},
   "outputs": [],
   "source": [
    "bi_volterm_plot('job_type', 'promotional_opportunities')"
   ]
  },
  {
   "cell_type": "code",
   "execution_count": null,
   "metadata": {},
   "outputs": [],
   "source": [
    "bi_volterm_plot('tenure', 'promotional_opportunities')"
   ]
  },
  {
   "cell_type": "code",
   "execution_count": null,
   "metadata": {},
   "outputs": [],
   "source": [
    "bi_volterm_plot('department', 'performance_recognized')"
   ]
  },
  {
   "cell_type": "code",
   "execution_count": null,
   "metadata": {},
   "outputs": [],
   "source": [
    "bi_volterm_plot('age', 'performance_recognized')"
   ]
  },
  {
   "cell_type": "code",
   "execution_count": null,
   "metadata": {},
   "outputs": [],
   "source": [
    "bi_volterm_plot('job_type', 'performance_recognized')"
   ]
  },
  {
   "cell_type": "code",
   "execution_count": null,
   "metadata": {},
   "outputs": [],
   "source": [
    "bi_volterm_plot('tenure', 'performance_recognized')"
   ]
  },
  {
   "cell_type": "markdown",
   "metadata": {},
   "source": [
    "## Org_env"
   ]
  },
  {
   "cell_type": "code",
   "execution_count": null,
   "metadata": {},
   "outputs": [],
   "source": [
    "bi_volterm_plot('department', 'org_environment')"
   ]
  },
  {
   "cell_type": "code",
   "execution_count": null,
   "metadata": {},
   "outputs": [],
   "source": [
    "bi_volterm_plot('department', 'org_culture')"
   ]
  },
  {
   "cell_type": "code",
   "execution_count": null,
   "metadata": {},
   "outputs": [],
   "source": [
    "bi_volterm_plot('age', 'org_culture')"
   ]
  },
  {
   "cell_type": "code",
   "execution_count": null,
   "metadata": {},
   "outputs": [],
   "source": [
    "bi_volterm_plot('job_type', 'org_culture')"
   ]
  },
  {
   "cell_type": "code",
   "execution_count": null,
   "metadata": {},
   "outputs": [],
   "source": [
    "bi_volterm_plot('tenure', 'org_culture')"
   ]
  },
  {
   "cell_type": "code",
   "execution_count": null,
   "metadata": {},
   "outputs": [],
   "source": [
    "bi_volterm_plot('department', 'grievances_resolution')"
   ]
  },
  {
   "cell_type": "code",
   "execution_count": null,
   "metadata": {},
   "outputs": [],
   "source": [
    "bi_volterm_plot('age', 'grievances_resolution')"
   ]
  },
  {
   "cell_type": "code",
   "execution_count": null,
   "metadata": {},
   "outputs": [],
   "source": [
    "bi_volterm_plot('job_type', 'grievances_resolution')"
   ]
  },
  {
   "cell_type": "code",
   "execution_count": null,
   "metadata": {},
   "outputs": [],
   "source": [
    "bi_volterm_plot('tenure', 'grievances_resolution')"
   ]
  },
  {
   "cell_type": "markdown",
   "metadata": {},
   "source": [
    "### Fair_salary"
   ]
  },
  {
   "cell_type": "code",
   "execution_count": null,
   "metadata": {},
   "outputs": [],
   "source": [
    "bi_volterm_plot('department', 'fair_salary')"
   ]
  },
  {
   "cell_type": "code",
   "execution_count": null,
   "metadata": {},
   "outputs": [],
   "source": [
    "bi_volterm_plot('age', 'fair_salary')"
   ]
  },
  {
   "cell_type": "code",
   "execution_count": null,
   "metadata": {},
   "outputs": [],
   "source": [
    "bi_volterm_plot('job_type', 'fair_salary')"
   ]
  },
  {
   "cell_type": "code",
   "execution_count": null,
   "metadata": {},
   "outputs": [],
   "source": [
    "bi_volterm_plot('tenure', 'fair_salary')"
   ]
  },
  {
   "cell_type": "markdown",
   "metadata": {},
   "source": [
    "# Additional analysis not featured in medium article. "
   ]
  },
  {
   "cell_type": "markdown",
   "metadata": {},
   "source": [
    "### Year of Term"
   ]
  },
  {
   "cell_type": "code",
   "execution_count": null,
   "metadata": {},
   "outputs": [],
   "source": [
    "def line_plot(feature):\n",
    "    plt.figure(figsize=(15,10))\n",
    "    sns.lineplot(x='year_of_term', y=feature, data=df, ci=None)\n",
    "    plt.title('Respondents attitude of {} by Year of Termination'.format(feature), fontsize=20, pad=25)\n",
    "    plt.ylabel(' ')"
   ]
  },
  {
   "cell_type": "code",
   "execution_count": null,
   "metadata": {},
   "outputs": [],
   "source": [
    "line_plot('employee_valued')"
   ]
  },
  {
   "cell_type": "code",
   "execution_count": null,
   "metadata": {
    "scrolled": false
   },
   "outputs": [],
   "source": [
    "demos = ['department', 'location','year_of_term','reason_of_term','gender',\n",
    "       'age', 'type_of_employee', 'job_type','tenure']\n",
    "\n",
    "likert_short = ['promotional_opportunities_short', 'performance_recognized_short',\n",
    "       'feedback_offered_short', 'coaching_offered_short',\n",
    "       'mgmt_clear_mission_short', 'mgmt_support_me_short',\n",
    "       'mgmt_support_team_short', 'mgmt_clear_comm_short',\n",
    "       'direct_mgmt_satisfaction_short', 'job_stimulating_short',\n",
    "       'initiative_encouraged_short', 'skill_variety_short',\n",
    "       'knowledge_variety_short', 'task_variety_short', 'fair_salary_short',\n",
    "       'teamwork_short', 'team_support_short', 'team_comm_short',\n",
    "       'team_culture_short', 'job_train_satisfaction_short',\n",
    "       'personal_train_satisfaction_short', 'org_culture_short',\n",
    "       'grievances_resolution_short', 'co-worker_interaction_short',\n",
    "       'workplace_conditions_short', 'job_stress_short',\n",
    "       'work/life_balance_short']\n",
    "for col in demos:\n",
    "    for var in likert_short:\n",
    "        bi_likert_plot(col, var)"
   ]
  },
  {
   "cell_type": "code",
   "execution_count": null,
   "metadata": {},
   "outputs": [],
   "source": [
    "df_corr = df.corr()\n",
    "\n",
    "plt.figure(figsize=(25,15))\n",
    "mask = np.zeros_like(df_corr, dtype=np.bool)\n",
    "mask[np.triu_indices_from(mask)] = True\n",
    "plt.figure(figsize=(70,40))\n",
    "plt.xticks(fontsize=50)\n",
    "plt.yticks(fontsize=50)\n",
    "sns.heatmap(df_corr, cmap='coolwarm', annot=True,\n",
    "            fmt=\".1f\", annot_kws={'size': 40, 'color': 'black'}, linewidths=2,\n",
    "            vmin=-0.5, mask=mask)\n",
    "\n"
   ]
  },
  {
   "cell_type": "markdown",
   "metadata": {},
   "source": [
    "### Dealing with Missing Values"
   ]
  },
  {
   "cell_type": "code",
   "execution_count": null,
   "metadata": {},
   "outputs": [],
   "source": [
    "tol_count = df.isnull().sum().sort_values(ascending=False)\n",
    "percent = (df.isnull().sum()/len(df))*100\n",
    "tmp = pd.concat([tol_count, percent], axis=1, keys=['total_count','percent'])\n",
    "\n",
    "f, ax = plt.subplots(figsize=(15, 5))\n",
    "plt.title('Percentage of Missing Data')\n",
    "\n",
    "sns.set_color_codes(\"pastel\")\n",
    "sns.barplot(x=tmp.index, y=tmp['total_count'], color='b', label='total count')\n",
    "\n",
    "sns.set_color_codes(\"muted\")\n",
    "sns.barplot(x=tmp.index, y=tmp['percent'], color='b', label='percentage')\n",
    "\n",
    "ax.legend(ncol=2, loc=\"upper right\", frameon=True)\n",
    "sns.despine(left=True, bottom=True)\n",
    "ax.set_xticklabels(ax.get_xticklabels(),rotation=90)\n",
    "plt.show()"
   ]
  },
  {
   "cell_type": "markdown",
   "metadata": {},
   "source": [
    "We don't have any features warrent deletion due to a large number of missing values"
   ]
  },
  {
   "cell_type": "code",
   "execution_count": null,
   "metadata": {},
   "outputs": [],
   "source": [
    "# drop any rows which have less than 28 non-null values\n",
    "df.dropna(thresh=28, inplace=True)"
   ]
  },
  {
   "cell_type": "code",
   "execution_count": null,
   "metadata": {},
   "outputs": [],
   "source": [
    "tol_count = df.isnull().sum().sort_values(ascending=False)\n",
    "percent = (df.isnull().sum()/len(df))*100\n",
    "tmp = pd.concat([tol_count, percent], axis=1, keys=['total_count','percent'])\n",
    "\n",
    "f, ax = plt.subplots(figsize=(15, 5))\n",
    "plt.title('Percentage of Missing Data')\n",
    "\n",
    "sns.set_color_codes(\"pastel\")\n",
    "sns.barplot(x=tmp.index, y=tmp['total_count'], color='b', label='total count')\n",
    "\n",
    "sns.set_color_codes(\"muted\")\n",
    "sns.barplot(x=tmp.index, y=tmp['percent'], color='b', label='percentage')\n",
    "\n",
    "ax.legend(ncol=2, loc=\"upper right\", frameon=True)\n",
    "sns.despine(left=True, bottom=True)\n",
    "ax.set_xticklabels(ax.get_xticklabels(),rotation=90)\n",
    "plt.show()"
   ]
  },
  {
   "cell_type": "code",
   "execution_count": null,
   "metadata": {},
   "outputs": [],
   "source": [
    "cat_features = ['department', 'location', 'marital_status', 'reason_of_term', 'gender',\n",
    "               'age', 'type_of_employee', 'job_type']\n",
    "\n",
    "for col in cat_features:\n",
    "    if (df[col].isnull().sum() / len(df)) > 0.1:\n",
    "        df[col].fillna('missing')\n",
    "    else:\n",
    "        df[col].fillna(df.mode())"
   ]
  },
  {
   "cell_type": "code",
   "execution_count": null,
   "metadata": {
    "scrolled": true
   },
   "outputs": [],
   "source": [
    "df.location.isnull().sum() / len(df)"
   ]
  },
  {
   "cell_type": "code",
   "execution_count": null,
   "metadata": {},
   "outputs": [],
   "source": [
    "tol_count = df.isnull().sum().sort_values(ascending=False)\n",
    "percent = (df.isnull().sum()/len(df))*100\n",
    "tmp = pd.concat([tol_count, percent], axis=1, keys=['total_count','percent'])\n",
    "\n",
    "f, ax = plt.subplots(figsize=(15, 5))\n",
    "plt.title('Percentage of Missing Data')\n",
    "\n",
    "sns.set_color_codes(\"pastel\")\n",
    "sns.barplot(x=tmp.index, y=tmp['total_count'], color='b', label='total count')\n",
    "\n",
    "sns.set_color_codes(\"muted\")\n",
    "sns.barplot(x=tmp.index, y=tmp['percent'], color='b', label='percentage')\n",
    "\n",
    "ax.legend(ncol=2, loc=\"upper right\", frameon=True)\n",
    "sns.despine(left=True, bottom=True)\n",
    "ax.set_xticklabels(ax.get_xticklabels(),rotation=90)\n",
    "plt.show()"
   ]
  }
 ],
 "metadata": {
  "kernelspec": {
   "display_name": "Python 3",
   "language": "python",
   "name": "python3"
  },
  "language_info": {
   "codemirror_mode": {
    "name": "ipython",
    "version": 3
   },
   "file_extension": ".py",
   "mimetype": "text/x-python",
   "name": "python",
   "nbconvert_exporter": "python",
   "pygments_lexer": "ipython3",
   "version": "3.7.6"
  }
 },
 "nbformat": 4,
 "nbformat_minor": 4
}
